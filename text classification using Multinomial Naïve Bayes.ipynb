{
 "cells": [
  {
   "cell_type": "code",
   "execution_count": 1,
   "metadata": {},
   "outputs": [],
   "source": [
    "import os\n",
    "import string\n",
    "import numpy as np\n",
    "import matplotlib.pyplot as plt\n",
    "from sklearn import model_selection\n",
    "from sklearn.naive_bayes import MultinomialNB\n",
    "from sklearn.metrics import classification_report"
   ]
  },
  {
   "cell_type": "code",
   "execution_count": 2,
   "metadata": {},
   "outputs": [
    {
     "data": {
      "text/plain": [
       "['alt.atheism',\n",
       " 'comp.graphics',\n",
       " 'comp.os.ms-windows.misc',\n",
       " 'comp.sys.ibm.pc.hardware',\n",
       " 'comp.sys.mac.hardware',\n",
       " 'comp.windows.x',\n",
       " 'misc.forsale',\n",
       " 'rec.autos',\n",
       " 'rec.motorcycles',\n",
       " 'rec.sport.baseball',\n",
       " 'rec.sport.hockey',\n",
       " 'sci.crypt',\n",
       " 'sci.electronics',\n",
       " 'sci.med',\n",
       " 'sci.space',\n",
       " 'soc.religion.christian',\n",
       " 'talk.politics.guns',\n",
       " 'talk.politics.mideast',\n",
       " 'talk.politics.misc',\n",
       " 'talk.religion.misc']"
      ]
     },
     "execution_count": 2,
     "metadata": {},
     "output_type": "execute_result"
    }
   ],
   "source": [
    "path=r'C:\\Users\\hp\\Desktop\\data for machine learning\\20_newsgroups'\n",
    "category =os.listdir(path)\n",
    "category"
   ]
  },
  {
   "cell_type": "code",
   "execution_count": 3,
   "metadata": {
    "scrolled": true
   },
   "outputs": [
    {
     "name": "stdout",
     "output_type": "stream",
     "text": [
      "alt.atheism\n",
      "comp.graphics\n",
      "comp.os.ms-windows.misc\n",
      "comp.sys.ibm.pc.hardware\n",
      "comp.sys.mac.hardware\n",
      "comp.windows.x\n",
      "misc.forsale\n",
      "rec.autos\n",
      "rec.motorcycles\n",
      "rec.sport.baseball\n",
      "rec.sport.hockey\n",
      "sci.crypt\n",
      "sci.electronics\n",
      "sci.med\n",
      "sci.space\n",
      "soc.religion.christian\n",
      "talk.politics.guns\n",
      "talk.politics.mideast\n",
      "talk.politics.misc\n",
      "talk.religion.misc\n"
     ]
    }
   ],
   "source": [
    "x = [] # an element of X is represented as (filename,text)\n",
    "y = [] # an element of Y represents the newsgroup category of the corresponding X element\n",
    "for fld in category:\n",
    "    print(fld)"
   ]
  },
  {
   "cell_type": "code",
   "execution_count": 35,
   "metadata": {},
   "outputs": [],
   "source": [
    "for categry in os.listdir(path):\n",
    "    for document in os.listdir(path+'/'+categry):\n",
    "        with open(path+'/'+categry+'/'+document, \"r\") as f:\n",
    "            x.append((document,f.read()))\n",
    "            y.append(categry)"
   ]
  },
  {
   "cell_type": "code",
   "execution_count": 32,
   "metadata": {},
   "outputs": [
    {
     "data": {
      "text/plain": [
       "('49960', 12425, 59991)"
      ]
     },
     "execution_count": 32,
     "metadata": {},
     "output_type": "execute_result"
    }
   ],
   "source": [
    "x[0][0],len(x[0][1]),len(x)"
   ]
  },
  {
   "cell_type": "code",
   "execution_count": 36,
   "metadata": {},
   "outputs": [
    {
     "data": {
      "text/plain": [
       "59991"
      ]
     },
     "execution_count": 36,
     "metadata": {},
     "output_type": "execute_result"
    }
   ],
   "source": [
    "x_train, x_test, y_train, y_test = model_selection.train_test_split(x, y, test_size=0.25, random_state=0)\n",
    "len(x_train)"
   ]
  },
  {
   "cell_type": "code",
   "execution_count": 7,
   "metadata": {},
   "outputs": [],
   "source": [
    "# A list of common english words which should not affect predictions\n",
    "stopwords = ['a', 'about', 'above', 'across', 'after', 'afterwards', 'again', 'against', 'all', 'almost', 'alone',\n",
    "             'along', 'already', 'also', 'although', 'always', 'am', 'among', 'amongst', 'amoungst', 'amount',\n",
    "             'an', 'and', 'another', 'any', 'anyhow', 'anyone', 'anything', 'anyway', 'anywhere', 'are', 'around',\n",
    "             'as', 'at', 'back', 'be', 'became', 'because', 'become', 'becomes', 'becoming', 'been', 'before',\n",
    "             'beforehand', 'behind', 'being', 'below', 'beside', 'besides', 'between', 'beyond', 'bill', 'both',\n",
    "             'bottom', 'but', 'by', 'call', 'can', 'cannot', 'cant', 'co', 'con', 'could', 'couldnt', 'cry', 'de',\n",
    "             'describe', 'detail', 'did', 'do', 'does', 'doing', 'don', 'done', 'down', 'due', 'during', 'each', 'eg',\n",
    "             'eight', 'either', 'eleven', 'else', 'elsewhere', 'empty', 'enough', 'etc', 'even', 'ever', 'every', 'everyone',\n",
    "             'everything', 'everywhere', 'except', 'few', 'fifteen', 'fify', 'fill', 'find', 'fire', 'first', 'five', 'for',\n",
    "             'former', 'formerly', 'forty', 'found', 'four', 'from', 'front', 'full', 'further', 'get', 'give', 'go', 'had',\n",
    "             'has', 'hasnt', 'have', 'having', 'he', 'hence', 'her', 'here', 'hereafter', 'hereby', 'herein', 'hereupon',\n",
    "             'hers', 'herself', 'him', 'himself', 'his', 'how', 'however', 'hundred', 'i', 'ie', 'if', 'in', 'inc', 'indeed',\n",
    "             'interest', 'into', 'is', 'it', 'its', 'itself', 'just', 'keep', 'last', 'latter', 'latterly', 'least', 'less',\n",
    "             'ltd', 'made', 'many', 'may', 'me', 'meanwhile', 'might', 'mill', 'mine', 'more', 'moreover', 'most', 'mostly',\n",
    "             'move', 'much', 'must', 'my', 'myself', 'name', 'namely', 'neither', 'never', 'nevertheless', 'next', 'nine',\n",
    "             'no', 'nobody', 'none', 'noone', 'nor', 'not', 'nothing', 'now', 'nowhere', 'of', 'off', 'often', 'on', 'once',\n",
    "             'one', 'only', 'onto', 'or', 'other', 'others', 'otherwise', 'our', 'ours', 'ourselves', 'out', 'over', 'own',\n",
    "             'part', 'per', 'perhaps', 'please', 'put', 'rather', 're', 's', 'same', 'see', 'seem', 'seemed', 'seeming',\n",
    "             'seems', 'serious', 'several', 'she', 'should', 'show', 'side', 'since', 'sincere', 'six', 'sixty', 'so', \n",
    "             'some', 'somehow', 'someone', 'something', 'sometime', 'sometimes', 'somewhere', 'still', 'such', 'system',\n",
    "             't', 'take', 'ten', 'than', 'that', 'the', 'their', 'theirs', 'them', 'themselves', 'then', 'thence', 'there',\n",
    "             'thereafter', 'thereby', 'therefore', 'therein', 'thereupon', 'these', 'they', 'thickv', 'thin', 'third', 'this',\n",
    "             'those', 'though', 'three', 'through', 'throughout', 'thru', 'thus', 'to', 'together', 'too', 'top', 'toward',\n",
    "             'towards', 'twelve', 'twenty', 'two', 'un', 'under', 'until', 'up', 'upon', 'us', 'very', 'via', 'was', 'we',\n",
    "             'well', 'were', 'what', 'whatever', 'when', 'whence', 'whenever', 'where', 'whereafter', 'whereas', 'whereby',\n",
    "             'wherein', 'whereupon', 'wherever', 'whether', 'which', 'while', 'whither', 'who', 'whoever', 'whole', 'whom',\n",
    "             'whose', 'why', 'will', 'with', 'within', 'without', 'would', 'yet', 'you', 'your', 'yours', 'yourself',\n",
    "             'yourselves']"
   ]
  },
  {
   "cell_type": "code",
   "execution_count": 8,
   "metadata": {},
   "outputs": [],
   "source": [
    "#building the vocabulary dictionary , in which keys are words and values are frequency of words\n",
    "vocab = {}\n",
    "for i in range(len(x_train)):\n",
    "    word_list = []\n",
    "    for word in x_train[i][1].split():\n",
    "        updated_word  = word.strip(string.punctuation).lower()     \n",
    "        if(len(updated_word)>2 and updated_word not in stopwords):\n",
    "            if updated_word in vocab:\n",
    "                vocab[updated_word]+=1\n",
    "            else:\n",
    "                vocab[updated_word]=1\n",
    "             \n",
    "               "
   ]
  },
  {
   "cell_type": "code",
   "execution_count": 9,
   "metadata": {},
   "outputs": [
    {
     "data": {
      "image/png": "[encoded data removed]",
      "text/plain": [
       "<Figure size 432x288 with 1 Axes>"
      ]
     },
     "metadata": {
      "needs_background": "light"
     },
     "output_type": "display_data"
    }
   ],
   "source": [
    "num_words = [0 for i in range(max(vocab.values())+1)] \n",
    "freq = [i for i in range(max(vocab.values())+1)] \n",
    "for key in vocab:\n",
    "    num_words[vocab[key]]+=1\n",
    "plt.plot(freq,num_words)\n",
    "plt.axis([1, 10, 0, 20000])\n",
    "plt.xlabel(\"Frequency\")\n",
    "plt.ylabel(\"No of words\")\n",
    "plt.grid()\n",
    "plt.show()\n"
   ]
  },
  {
   "cell_type": "code",
   "execution_count": 10,
   "metadata": {},
   "outputs": [
    {
     "name": "stdout",
     "output_type": "stream",
     "text": [
      "count of  words with frequency higher than cutoff frequency(80) : 4055\n"
     ]
    }
   ],
   "source": [
    "# For deciding cutoff frequency\n",
    "cutoff_freq=80\n",
    "num_words_above_cutoff = len(vocab)-sum(num_words[0:cutoff_freq]) #here i am substracting the words with frequency (1 to 79)\n",
    "print(\"count of  words with frequency higher than cutoff frequency({}) :\".format(cutoff_freq),num_words_above_cutoff)"
   ]
  },
  {
   "cell_type": "code",
   "execution_count": 11,
   "metadata": {},
   "outputs": [],
   "source": [
    "#  removing the  words which has low frequencies as they would not be significant \n",
    "features = []                  \n",
    "for key in vocab:\n",
    "    if vocab[key] >=cutoff_freq:\n",
    "        features.append(key)"
   ]
  },
  {
   "cell_type": "code",
   "execution_count": 42,
   "metadata": {},
   "outputs": [],
   "source": [
    "# To represent training data as word vector counts\n",
    "x_train_dataset = np.zeros((len(x_train),len(features)))\n",
    "# This will take a lot  time to complete\n",
    "for i in range(len(x_train)):\n",
    "    word_list = [ word.strip().lower() for word in x_train[i][1].split()]\n",
    "    for word in word_list:\n",
    "        if word in features:\n",
    "            x_train_dataset[i][features.index(word)] += 1"
   ]
  },
  {
   "cell_type": "code",
   "execution_count": 43,
   "metadata": {},
   "outputs": [],
   "source": [
    "x_test_dataset = np.zeros((len(x_test),len(features)))\n",
    "# also it will take a lot  time to complete\n",
    "for i in range(len(x_test)):\n",
    "    word_list = [ word.strip().lower() for word in x_test[i][1].split()]\n",
    "    for word in word_list:\n",
    "        if word in features:\n",
    "            x_test_dataset[i][features.index(word)]+= 1"
   ]
  },
  {
   "cell_type": "code",
   "execution_count": 44,
   "metadata": {},
   "outputs": [],
   "source": [
    "# my own multinomial naive bayes implementation \n",
    "class MultinomialNaiveBayes:\n",
    "    \n",
    "    def __init__(self):\n",
    "        # result is a dictionary which stores several dictionaries corresponding to each news category\n",
    "        # each value in the subdictionary represents the freq of the key corresponding to that news category \n",
    "        self.result = {}\n",
    "        # classes represents the different news categories\n",
    "        self.classes = None\n",
    "    \n",
    "    def fit(self,x_train,y_train):\n",
    "        # This can take some time to complete       \n",
    "        self.classes = set(y_train)\n",
    "        for class_ in self.classes:\n",
    "            self.result[class_] = {}\n",
    "            for i in range(len(x_train[0])):\n",
    "                self.result[class_][i] = 0\n",
    "            self.result[class_]['total'] = 0\n",
    "            self.result[class_]['total_points'] = 0\n",
    "        self.result['total_points'] = len(x_train)\n",
    "        \n",
    "        for i in range(len(x_train)):\n",
    "            for j in range(len(x_train[0])):\n",
    "                self.result[y_train[i]][j]+=x_train[i][j]\n",
    "                self.result[y_train[i]]['total']+=x_train[i][j]\n",
    "            self.result[y_train[i]]['total_points']+=1\n",
    "    \n",
    "    def __probability(self,test_point,class_):  # in this function i have calculated the probabity and also handeled the laplace corection\n",
    "        \n",
    "        log_prob = np.log(self.result[class_]['total_points']) - np.log(self.result['total_points'])\n",
    "        total_words = len(test_point)\n",
    "        for i in range(len(test_point)):\n",
    "            current_word_prob = test_point[i]*(np.log(self.result[class_][i]+1)-np.log(self.result[class_]['total']+total_words))\n",
    "            log_prob += current_word_prob\n",
    "        \n",
    "        return log_prob\n",
    "    \n",
    "    \n",
    "    def __predictSinglePoint(self,test_point):\n",
    "        \n",
    "        best_class = None\n",
    "        best_prob = None\n",
    "        first_run = True\n",
    "        \n",
    "        for class_ in self.classes:\n",
    "            log_probability_current_class = self.__probability(test_point,class_)\n",
    "            if (first_run) or (log_probability_current_class > best_prob) :\n",
    "                best_class = class_\n",
    "                best_prob = log_probability_current_class\n",
    "                first_run = False\n",
    "                \n",
    "        return best_class\n",
    "        \n",
    "  \n",
    "    def predict(self,x_test):\n",
    "        # This can take some time to complete\n",
    "        y_pred = [] \n",
    "        for i in range(len(x_test)):\n",
    "            y_pred.append( self.__predictSinglePoint(x_test[i]) )\n",
    "        \n",
    "        return y_pred\n",
    "    \n",
    "    def score(self,y_pred,y_true):\n",
    "        # returns the mean accuracy\n",
    "        count = 0\n",
    "        for i in range(len(y_pred)):\n",
    "            if y_pred[i] == y_true[i]:\n",
    "                count+=1\n",
    "        return count/len(y_pred)"
   ]
  },
  {
   "cell_type": "code",
   "execution_count": 45,
   "metadata": {},
   "outputs": [
    {
     "name": "stdout",
     "output_type": "stream",
     "text": [
      "Our score on testing data : 0.905785867880182\n",
      "Classification report for testing data :-\n",
      "                          precision    recall  f1-score   support\n",
      "\n",
      "             alt.atheism       0.74      0.89      0.81       977\n",
      "           comp.graphics       0.88      0.89      0.88       987\n",
      " comp.os.ms-windows.misc       0.88      0.93      0.90       993\n",
      "comp.sys.ibm.pc.hardware       0.88      0.91      0.90       998\n",
      "   comp.sys.mac.hardware       0.94      0.93      0.94      1009\n",
      "          comp.windows.x       0.96      0.94      0.95      1001\n",
      "            misc.forsale       0.89      0.90      0.90       992\n",
      "               rec.autos       0.94      0.95      0.94       994\n",
      "         rec.motorcycles       0.95      0.98      0.97       996\n",
      "      rec.sport.baseball       1.00      0.99      0.99      1018\n",
      "        rec.sport.hockey       0.99      0.98      0.99      1020\n",
      "               sci.crypt       0.97      0.93      0.95      1030\n",
      "         sci.electronics       0.92      0.93      0.92      1044\n",
      "                 sci.med       0.97      0.92      0.94       949\n",
      "               sci.space       0.95      0.94      0.95       959\n",
      "  soc.religion.christian       0.96      0.99      0.98       998\n",
      "      talk.politics.guns       0.80      0.95      0.87      1014\n",
      "   talk.politics.mideast       0.93      0.91      0.92       986\n",
      "      talk.politics.misc       0.80      0.68      0.74       986\n",
      "      talk.religion.misc       0.78      0.59      0.67      1046\n",
      "\n",
      "                accuracy                           0.91     19997\n",
      "               macro avg       0.91      0.91      0.90     19997\n",
      "            weighted avg       0.91      0.91      0.90     19997\n",
      "\n"
     ]
    }
   ],
   "source": [
    "clf2 = MultinomialNaiveBayes()\n",
    "clf2.fit(x_train_dataset,y_train)\n",
    "y_test_pred = clf2.predict(x_test_dataset)\n",
    "our_score_test = clf2.score(y_test_pred,y_test)  \n",
    "print(\"my score on testing data :\",our_score_test)\n",
    "print(\"Classification report for testing data :-\")\n",
    "print(classification_report(y_test, y_test_pred))"
   ]
  },
  {
   "cell_type": "code",
   "execution_count": 46,
   "metadata": {},
   "outputs": [
    {
     "name": "stdout",
     "output_type": "stream",
     "text": [
      "Sklearn's score on training data : 0.9147205414145455\n",
      "Sklearn's score on testing data : 0.905785867880182\n",
      "Classification report for testing data :-\n",
      "                          precision    recall  f1-score   support\n",
      "\n",
      "             alt.atheism       0.74      0.89      0.81       977\n",
      "           comp.graphics       0.88      0.89      0.88       987\n",
      " comp.os.ms-windows.misc       0.88      0.93      0.90       993\n",
      "comp.sys.ibm.pc.hardware       0.88      0.91      0.90       998\n",
      "   comp.sys.mac.hardware       0.94      0.93      0.94      1009\n",
      "          comp.windows.x       0.96      0.94      0.95      1001\n",
      "            misc.forsale       0.89      0.90      0.90       992\n",
      "               rec.autos       0.94      0.95      0.94       994\n",
      "         rec.motorcycles       0.95      0.98      0.97       996\n",
      "      rec.sport.baseball       1.00      0.99      0.99      1018\n",
      "        rec.sport.hockey       0.99      0.98      0.99      1020\n",
      "               sci.crypt       0.97      0.93      0.95      1030\n",
      "         sci.electronics       0.92      0.93      0.92      1044\n",
      "                 sci.med       0.97      0.92      0.94       949\n",
      "               sci.space       0.95      0.94      0.95       959\n",
      "  soc.religion.christian       0.96      0.99      0.98       998\n",
      "      talk.politics.guns       0.80      0.95      0.87      1014\n",
      "   talk.politics.mideast       0.93      0.91      0.92       986\n",
      "      talk.politics.misc       0.80      0.68      0.74       986\n",
      "      talk.religion.misc       0.78      0.59      0.67      1046\n",
      "\n",
      "                accuracy                           0.91     19997\n",
      "               macro avg       0.91      0.91      0.90     19997\n",
      "            weighted avg       0.91      0.91      0.90     19997\n",
      "\n"
     ]
    }
   ],
   "source": [
    "clf = MultinomialNB()\n",
    "clf.fit(x_train_dataset,y_train)\n",
    "y_test_pred = clf.predict(x_test_dataset)\n",
    "sklearn_score_train = clf.score(x_train_dataset,y_train)\n",
    "print(\"Sklearn's score on training data :\",sklearn_score_train)\n",
    "sklearn_score_test = clf.score(x_test_dataset,y_test)\n",
    "print(\"Sklearn's score on testing data :\",sklearn_score_test)\n",
    "print(\"Classification report for testing data :-\")\n",
    "print(classification_report(y_test, y_test_pred))"
   ]
  },
  {
   "cell_type": "code",
   "execution_count": 8,
   "metadata": {},
   "outputs": [],
   "source": [
    "import os"
   ]
  },
  {
   "cell_type": "code",
   "execution_count": 9,
   "metadata": {},
   "outputs": [
    {
     "data": {
      "text/plain": [
       "'C:\\\\Users\\\\hp'"
      ]
     },
     "execution_count": 9,
     "metadata": {},
     "output_type": "execute_result"
    }
   ],
   "source": [
    "os.getcwd()"
   ]
  }
 ],
 "metadata": {
  "kernelspec": {
   "display_name": "Python 3",
   "language": "python",
   "name": "python3"
  },
  "language_info": {
   "codemirror_mode": {
    "name": "ipython",
    "version": 3
   },
   "file_extension": ".py",
   "mimetype": "text/x-python",
   "name": "python",
   "nbconvert_exporter": "python",
   "pygments_lexer": "ipython3",
   "version": "3.7.4"
  }
 },
 "nbformat": 4,
 "nbformat_minor": 2
}
